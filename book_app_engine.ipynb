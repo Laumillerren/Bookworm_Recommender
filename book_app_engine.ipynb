{
 "cells": [
  {
   "cell_type": "markdown",
   "metadata": {},
   "source": [
    "# App Engine for Recommendations\n",
    "\n",
    "Using cosine similarity, we will build an engine to provide recommendations.\n",
    "These will be save to pkl files and then an app will be built to run the data"
   ]
  },
  {
   "cell_type": "markdown",
   "metadata": {},
   "source": []
  }
 ],
 "metadata": {
  "language_info": {
   "name": "python"
  }
 },
 "nbformat": 4,
 "nbformat_minor": 2
}
